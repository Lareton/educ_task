{
 "cells": [
  {
   "cell_type": "code",
   "execution_count": 151,
   "id": "99ef2a3f",
   "metadata": {},
   "outputs": [],
   "source": [
    "# импортируем нужные библиотеки\n",
    "\n",
    "from transformers import BertTokenizer, BertForSequenceClassification\n",
    "from torch.utils.data import Dataset, DataLoader\n",
    "from transformers import AdamW, get_linear_schedule_with_warmup\n",
    "from torch.utils.data import Dataset\n",
    "from sklearn.model_selection import train_test_split\n",
    "\n",
    "import numpy as np\n",
    "import pandas as pd\n",
    "import torch\n",
    "import json"
   ]
  },
  {
   "cell_type": "code",
   "execution_count": null,
   "id": "15ab1cc0",
   "metadata": {},
   "outputs": [],
   "source": []
  },
  {
   "cell_type": "code",
   "execution_count": 2,
   "id": "0b1b490b",
   "metadata": {},
   "outputs": [],
   "source": [
    "class CustomDataset(Dataset):\n",
    "    \"\"\"  класс для хранения датасета и его предоработки для формата ruBert\"\"\"\n",
    "    def __init__(self, texts, targets, tokenizer, max_len=512):\n",
    "        \"\"\"\n",
    "        text: list, список текстов для обучения модели;\n",
    "        target: list, список целочисленных предсказаний для обучения модели;\n",
    "        tokenizer: токенизатор для предобработки текста;\n",
    "        max_len: максимальное количество слов в тексте.\n",
    "        \"\"\"\n",
    "        self.texts = texts\n",
    "        self.targets = targets\n",
    "        self.tokenizer = tokenizer\n",
    "        self.max_len = max_len\n",
    "\n",
    "    def __len__(self):\n",
    "        return len(self.texts)\n",
    "\n",
    "    def __getitem__(self, idx):\n",
    "        text = str(self.texts[idx])\n",
    "        target = self.targets[idx]\n",
    "\n",
    "        encoding = self.tokenizer.encode_plus(\n",
    "            text,\n",
    "            add_special_tokens=True,\n",
    "            max_length=self.max_len,\n",
    "            return_token_type_ids=False,\n",
    "            padding='max_length',\n",
    "            return_attention_mask=True,\n",
    "            return_tensors='pt',\n",
    "        )\n",
    "\n",
    "        return {\n",
    "          'text': text,\n",
    "          'input_ids': encoding['input_ids'].flatten(),\n",
    "          'attention_mask': encoding['attention_mask'].flatten(),\n",
    "          'targets': torch.tensor(target, dtype=torch.long)\n",
    "        }"
   ]
  },
  {
   "cell_type": "code",
   "execution_count": null,
   "id": "f8659ef3",
   "metadata": {},
   "outputs": [],
   "source": []
  },
  {
   "cell_type": "code",
   "execution_count": 153,
   "id": "8fbe273b",
   "metadata": {},
   "outputs": [],
   "source": [
    "class BertClassifier:\n",
    "    \"\"\" класс для инициализации, обучения и получения предсказаний ruBert модели \"\"\"\n",
    "    def __init__(self, model_path, tokenizer_path, n_classes=4, epochs=10, model_save_path='berts_training_weights'):\n",
    "        \"\"\"\n",
    "        model_path: путь до предобученной модели;\n",
    "        tokenizer_path: путь до используемого токенизатора;\n",
    "        n_classes: количество классов классификации;\n",
    "        epochs: количество эпох обучения;\n",
    "        model_save_path: путь, куда будут сохранятся чекпоинты весов во время обучения.\n",
    "        \"\"\"\n",
    "        self.model = BertForSequenceClassification.from_pretrained(model_path)\n",
    "        self.tokenizer = BertTokenizer.from_pretrained(tokenizer_path)\n",
    "        self.device = torch.device(\"cuda:0\" if torch.cuda.is_available() else \"cpu\")\n",
    "        self.model_save_path=model_save_path\n",
    "        self.max_len = 512\n",
    "        self.epochs = epochs\n",
    "        self.out_features = self.model.bert.encoder.layer[1].output.dense.out_features\n",
    "        self.model.classifier = torch.nn.Linear(self.out_features, n_classes)\n",
    "        self.model.to(self.device)\n",
    "    \n",
    "    def preparation(self, X_train, y_train, X_valid, y_valid):\n",
    "        # создадим датасеты под обучающую и валидационную выборку\n",
    "        self.train_set = CustomDataset(X_train, y_train, self.tokenizer)\n",
    "        self.valid_set = CustomDataset(X_valid, y_valid, self.tokenizer)\n",
    "\n",
    "        # сделаем из датасетов pytorch DataLoader'ы\n",
    "        self.train_loader = DataLoader(self.train_set, batch_size=2, shuffle=True)\n",
    "        self.valid_loader = DataLoader(self.valid_set, batch_size=2, shuffle=True)\n",
    "\n",
    "        # инициализуем оптимизаторы для обучения\n",
    "        self.optimizer = AdamW(self.model.parameters(), lr=2e-5, correct_bias=False)\n",
    "        self.scheduler = get_linear_schedule_with_warmup(\n",
    "                self.optimizer,\n",
    "                num_warmup_steps=0,\n",
    "                num_training_steps=len(self.train_loader) * self.epochs\n",
    "            )\n",
    "        self.loss_fn = torch.nn.CrossEntropyLoss().to(self.device)\n",
    "            \n",
    "    def fit(self):\n",
    "        \"\"\" метод для 1 эпохи обучения модели на обучающей выборке\"\"\"\n",
    "        self.model = self.model.train()\n",
    "        losses = []\n",
    "        correct_predictions = 0\n",
    "\n",
    "        for data in self.train_loader:\n",
    "            input_ids = data[\"input_ids\"].to(self.device)\n",
    "            attention_mask = data[\"attention_mask\"].to(self.device)\n",
    "            targets = data[\"targets\"].to(self.device)\n",
    "\n",
    "            outputs = self.model(\n",
    "                input_ids=input_ids,\n",
    "                attention_mask=attention_mask\n",
    "                )\n",
    "\n",
    "            preds = torch.argmax(outputs.logits, dim=1)\n",
    "            loss = self.loss_fn(outputs.logits, targets)\n",
    "\n",
    "            correct_predictions += torch.sum(preds == targets)\n",
    "\n",
    "            losses.append(loss.item())\n",
    "            \n",
    "            loss.backward()\n",
    "            torch.nn.utils.clip_grad_norm_(self.model.parameters(), max_norm=1.0)\n",
    "            self.optimizer.step()\n",
    "            self.scheduler.step()\n",
    "            self.optimizer.zero_grad()\n",
    "\n",
    "        train_acc = correct_predictions.double() / len(self.train_set)\n",
    "        train_loss = np.mean(losses)\n",
    "        return train_acc, train_loss\n",
    "    \n",
    "    def eval(self):\n",
    "        \"\"\" метод для проверки точности модели на валидационной выборки \"\"\"\n",
    "        self.model = self.model.eval()\n",
    "        losses = []\n",
    "        correct_predictions = 0\n",
    "\n",
    "        with torch.no_grad():\n",
    "            for data in self.valid_loader:\n",
    "                input_ids = data[\"input_ids\"].to(self.device)\n",
    "                attention_mask = data[\"attention_mask\"].to(self.device)\n",
    "                targets = data[\"targets\"].to(self.device)\n",
    "\n",
    "                outputs = self.model(\n",
    "                    input_ids=input_ids,\n",
    "                    attention_mask=attention_mask\n",
    "                    )\n",
    "\n",
    "                preds = torch.argmax(outputs.logits, dim=1)\n",
    "                loss = self.loss_fn(outputs.logits, targets)\n",
    "                correct_predictions += torch.sum(preds == targets)\n",
    "                losses.append(loss.item())\n",
    "        \n",
    "        val_acc = correct_predictions.double() / len(self.valid_set)\n",
    "        val_loss = np.mean(losses)\n",
    "        return val_acc, val_loss\n",
    "    \n",
    "    def train(self):\n",
    "        \"\"\" метод для обучения модели \"\"\"\n",
    "        best_accuracy = 0\n",
    "        for epoch in range(self.epochs):\n",
    "            print(f'Epoch {epoch + 1}/{self.epochs}')\n",
    "            train_acc, train_loss = self.fit()\n",
    "            print(f'Train loss {train_loss}| accuracy {train_acc}')\n",
    "\n",
    "            val_acc, val_loss = self.eval()\n",
    "            print(f'Val loss {val_loss}| accuracy {val_acc}')\n",
    "            print('-' * 10)\n",
    "\n",
    "            if val_acc > best_accuracy:\n",
    "                torch.save(self.model, self.model_save_path + \"/\" + \"epoch\" + str(epoch))\n",
    "                best_accuracy = val_acc\n",
    "\n",
    "        self.model = torch.load(self.model_save_path + \"/final_model.pt\")\n",
    "    \n",
    "    def predict(self, text: str) -> int:\n",
    "        \"\"\" \n",
    "        метод для получения предсказания модели на тексте\n",
    "        Принимает на вход: str, текст;\n",
    "        Возвращает: int, номер предсказанного класса.\n",
    "        \"\"\"\n",
    "        encoding = self.tokenizer.encode_plus(\n",
    "            text,\n",
    "            add_special_tokens=True,\n",
    "            max_length=self.max_len,\n",
    "            return_token_type_ids=False,\n",
    "            truncation=True,\n",
    "            padding='max_length',\n",
    "            return_attention_mask=True,\n",
    "            return_tensors='pt',\n",
    "        )\n",
    "        \n",
    "        out = {\n",
    "              'text': text,\n",
    "              'input_ids': encoding['input_ids'].flatten(),\n",
    "              'attention_mask': encoding['attention_mask'].flatten()\n",
    "          }\n",
    "        \n",
    "        input_ids = out[\"input_ids\"].to(self.device)\n",
    "        attention_mask = out[\"attention_mask\"].to(self.device)\n",
    "        \n",
    "        outputs = self.model(\n",
    "            input_ids=input_ids.unsqueeze(0),\n",
    "            attention_mask=attention_mask.unsqueeze(0)\n",
    "        )\n",
    "        \n",
    "        prediction = torch.argmax(outputs.logits, dim=1).cpu().numpy()[0]\n",
    "\n",
    "        return prediction"
   ]
  },
  {
   "cell_type": "markdown",
   "id": "a8c507e2",
   "metadata": {},
   "source": [
    "   "
   ]
  },
  {
   "cell_type": "code",
   "execution_count": 4,
   "id": "41e47ec5",
   "metadata": {},
   "outputs": [
    {
     "name": "stderr",
     "output_type": "stream",
     "text": [
      "Some weights of the model checkpoint at cointegrated/rubert-tiny were not used when initializing BertForSequenceClassification: ['cls.predictions.decoder.weight', 'cls.predictions.transform.LayerNorm.weight', 'cls.predictions.decoder.bias', 'cls.predictions.transform.dense.bias', 'cls.seq_relationship.bias', 'cls.predictions.bias', 'cls.predictions.transform.LayerNorm.bias', 'cls.predictions.transform.dense.weight', 'cls.seq_relationship.weight']\n",
      "- This IS expected if you are initializing BertForSequenceClassification from the checkpoint of a model trained on another task or with another architecture (e.g. initializing a BertForSequenceClassification model from a BertForPreTraining model).\n",
      "- This IS NOT expected if you are initializing BertForSequenceClassification from the checkpoint of a model that you expect to be exactly identical (initializing a BertForSequenceClassification model from a BertForSequenceClassification model).\n",
      "Some weights of BertForSequenceClassification were not initialized from the model checkpoint at cointegrated/rubert-tiny and are newly initialized: ['classifier.bias', 'classifier.weight']\n",
      "You should probably TRAIN this model on a down-stream task to be able to use it for predictions and inference.\n"
     ]
    }
   ],
   "source": [
    "# инициализируем модель ruBert с предобученными весами\n",
    "\n",
    "classifier = BertClassifier(\n",
    "        model_path='cointegrated/rubert-tiny',\n",
    "        tokenizer_path='cointegrated/rubert-tiny',\n",
    "        n_classes=4,\n",
    "        epochs=30\n",
    ")"
   ]
  },
  {
   "cell_type": "markdown",
   "id": "4c70e23f",
   "metadata": {},
   "source": [
    "   "
   ]
  },
  {
   "cell_type": "code",
   "execution_count": 158,
   "id": "d290a60f",
   "metadata": {},
   "outputs": [],
   "source": [
    "# загрузим собранный датасет\n",
    "\n",
    "dataset = json.load(open(\"big_dataset.json\", \"r\"))\n",
    "\n",
    "texts = list(dataset.keys())\n",
    "labels = list(dataset.values())\n",
    "labelEncoder = {\"спорт\": 0, \"музыка\": 1, \"литература\": 2, \"животные\": 3}\n",
    "\n",
    "texts = list(map(lambda x: x[:min(513, len(x))], texts)) # обрежем текст до первых 512 слов\n",
    "labels = list(map(lambda x: labelEncoder[x], labels)) # преобразуем строки со значениями классов в целочисленный формат"
   ]
  },
  {
   "cell_type": "code",
   "execution_count": 7,
   "id": "50eac007",
   "metadata": {},
   "outputs": [],
   "source": [
    "# разобьём выборку на обучающую и валидационную\n",
    "\n",
    "X_train, X_valid, y_train, y_valid = train_test_split(texts, labels, \n",
    "                                                      test_size=0.1, random_state=42)"
   ]
  },
  {
   "cell_type": "markdown",
   "id": "00ccec2f",
   "metadata": {},
   "source": [
    "   "
   ]
  },
  {
   "cell_type": "code",
   "execution_count": 139,
   "id": "f97ab04a",
   "metadata": {},
   "outputs": [],
   "source": [
    "# загрузим датасет в классификатор\n",
    "\n",
    "classifier.preparation(\n",
    "        X_train,\n",
    "        y_train,\n",
    "        X_valid,\n",
    "        y_valid)"
   ]
  },
     ]
    }
   ],
   "source": [
    "# дообучим классификатор на загруженном датасете\n",
    "\n",
    "classifier.train()"
   ]
  },
  {
   "cell_type": "markdown",
   "id": "98363167",
   "metadata": {},
   "source": [
    "   "
   ]
  },
  {
   "cell_type": "code",
   "execution_count": null,
   "id": "92c03a6e",
   "metadata": {},
   "outputs": [],
   "source": [
    "# попробуем осуществить предсказание с помощью дообученной модели"
   ]
  },
  {
   "cell_type": "code",
   "execution_count": 159,
   "id": "daca5587",
   "metadata": {},
   "outputs": [],
   "source": [
    "labelDecoder = {v: k for k, v in labelEncoder.items()}"
   ]
  },
  {
   "cell_type": "code",
   "execution_count": 160,
   "id": "86f11158",
   "metadata": {},
   "outputs": [
    {
     "data": {
      "text/plain": [
       "'животные'"
      ]
     },
     "execution_count": 160,
     "metadata": {},
     "output_type": "execute_result"
    }
   ],
   "source": [
    "labelDecoder[classifier.predict(\"\"\"Реши задачу. Сколько коробок \n",
    "                   корма для собак поместится в ящике, \n",
    "                   если все стороны ящика соответственно в 12 раз больше сторон коробки корма?\"\"\")]"
   ]
  },
  {
   "cell_type": "code",
   "execution_count": null,
   "id": "fd3f9c76",
   "metadata": {},
   "outputs": [],
   "source": []
  },
  {
   "cell_type": "code",
   "execution_count": 161,
   "id": "63314d8a",
   "metadata": {},
   "outputs": [],
   "source": [
    "torch.save(classifier.model, \"theme_classifier.pt\")"
   ]
  },
  {
   "cell_type": "code",
   "execution_count": null,
   "id": "cd86c6cc",
   "metadata": {},
   "outputs": [],
   "source": []
  },
  {
   "cell_type": "markdown",
   "id": "0dfee765",
   "metadata": {},
   "source": [
    "### Выполним предсказания для тестовой выборки"
   ]
  },
  {
   "cell_type": "code",
   "execution_count": 164,
   "id": "ce3a8bdd",
   "metadata": {
    "scrolled": true
   },
   "outputs": [],
   "source": [
    "# импортируем функцию для нахождения самых близкоотносящихся к теме слов\n",
    "\n",
    "from get_most_similarity_words import getMostSimilarityWords"
   ]
  },
  {
   "cell_type": "code",
   "execution_count": 165,
   "id": "ac77e9d8",
   "metadata": {},
   "outputs": [],
   "source": [
    "test_dataset = pd.read_csv(\"test.csv\")\n",
    "sample_submission = pd.read_csv(\"sample_submission.csv\")"
   ]
  },
  {
   "cell_type": "code",
   "execution_count": 167,
   "id": "cb8e9fa1",
   "metadata": {},
   "outputs": [],
   "source": [
    "test_predicts = []\n",
    "keywords = []\n",
    "\n",
    "for text in test_dataset[\"task\"]:\n",
    "    p = labelDecoder[classifier.predict(text)]\n",
    "    test_predicts.append(p)\n",
    "    keywords.append(\";\".join(getMostSimilarityWords(text, p)))"
   ]
  },
  {
   "cell_type": "code",
   "execution_count": 170,
   "id": "7b16d968",
   "metadata": {},
   "outputs": [],
   "source": [
    "sample_submission['category'] = test_predicts\n",
    "sample_submission[\"keywords\"] = keywords"
   ]
  },
  {
   "cell_type": "code",
   "execution_count": 172,
   "id": "b3632be7",
   "metadata": {},
   "outputs": [
    {
     "data": {
      "text/html": [
       "<div>\n",
       "<style scoped>\n",
       "    .dataframe tbody tr th:only-of-type {\n",
       "        vertical-align: middle;\n",
       "    }\n",
       "\n",
       "    .dataframe tbody tr th {\n",
       "        vertical-align: top;\n",
       "    }\n",
       "\n",
       "    .dataframe thead th {\n",
       "        text-align: right;\n",
       "    }\n",
       "</style>\n",
       "<table border=\"1\" class=\"dataframe\">\n",
       "  <thead>\n",
       "    <tr style=\"text-align: right;\">\n",
       "      <th></th>\n",
       "      <th>id</th>\n",
       "      <th>category</th>\n",
       "      <th>keywords</th>\n",
       "    </tr>\n",
       "  </thead>\n",
       "  <tbody>\n",
       "    <tr>\n",
       "      <th>0</th>\n",
       "      <td>0</td>\n",
       "      <td>спорт</td>\n",
       "      <td>хоккей;соревнование;специалист</td>\n",
       "    </tr>\n",
       "    <tr>\n",
       "      <th>1</th>\n",
       "      <td>1</td>\n",
       "      <td>животные</td>\n",
       "      <td>собака;корм;соответственно</td>\n",
       "    </tr>\n",
       "    <tr>\n",
       "      <th>2</th>\n",
       "      <td>2</td>\n",
       "      <td>спорт</td>\n",
       "      <td>футбол;волейбол;культура</td>\n",
       "    </tr>\n",
       "    <tr>\n",
       "      <th>3</th>\n",
       "      <td>3</td>\n",
       "      <td>животные</td>\n",
       "      <td>животное;корм;домашний</td>\n",
       "    </tr>\n",
       "    <tr>\n",
       "      <th>4</th>\n",
       "      <td>4</td>\n",
       "      <td>спорт</td>\n",
       "      <td>футбол;турнир;выигрывать</td>\n",
       "    </tr>\n",
       "  </tbody>\n",
       "</table>\n",
       "</div>"
      ],
      "text/plain": [
       "   id  category                        keywords\n",
       "0   0     спорт  хоккей;соревнование;специалист\n",
       "1   1  животные      собака;корм;соответственно\n",
       "2   2     спорт        футбол;волейбол;культура\n",
       "3   3  животные          животное;корм;домашний\n",
       "4   4     спорт        футбол;турнир;выигрывать"
      ]
     },
     "execution_count": 172,
     "metadata": {},
     "output_type": "execute_result"
    }
   ],
   "source": [
    "sample_submission.head()"
   ]
  },
  {
   "cell_type": "code",
   "execution_count": 173,
   "id": "fcb1c81f",
   "metadata": {},
   "outputs": [],
   "source": [
    "sample_submission.to_csv(\"submission_with_rubert.csv\")"
   ]
  },
  {
   "cell_type": "code",
   "execution_count": null,
   "id": "7dd30e8a",
   "metadata": {},
   "outputs": [],
   "source": []
  }
 ],
 "metadata": {
  "kernelspec": {
   "display_name": "Python 3 (ipykernel)",
   "language": "python",
   "name": "python3"
  },
  "language_info": {
   "codemirror_mode": {
    "name": "ipython",
    "version": 3
   },
   "file_extension": ".py",
   "mimetype": "text/x-python",
   "name": "python",
   "nbconvert_exporter": "python",
   "pygments_lexer": "ipython3",
   "version": "3.8.8"
  }
 },
 "nbformat": 4,
 "nbformat_minor": 5
}
